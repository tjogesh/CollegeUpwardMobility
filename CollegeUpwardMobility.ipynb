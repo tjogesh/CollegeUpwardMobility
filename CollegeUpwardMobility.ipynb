{
 "cells": [
  {
   "cell_type": "code",
   "execution_count": 7,
   "metadata": {
    "collapsed": false
   },
   "outputs": [
    {
     "name": "stdout",
     "output_type": "stream",
     "text": [
      "<class 'requests.models.Response'>\n",
      "{\n",
      "  \"error\": {\n",
      "    \"code\": \"<h1>API KEY MISSING</h1>\",\n",
      "    \"message\": \"<hr>College Scorecard requires an API Key for access. <br><br>To obtain a key, visit <a href=\\\"https://api.data.gov/signup\\\">https://api.data.gov/signup</a>.<br><br> You will receive an email with your key. When you receive this key, simply append it to your API requests with the additional parameter &api_key=xxxxxxxxxxxxx.\"\n",
      "  }\n",
      "}\n"
     ]
    }
   ],
   "source": [
    "import requests \n",
    "college_scorecard = requests.get('http://api.data.gov/ed/collegescorecard//v1/schools/&api_key=7EfsgcFY3JfMxQJ7tAW0Cjqamb77iOHPbpdBXTP6&location=Oakland+CA')\n",
    "#not sure why API doesn't work\n",
    "print(type(college_scorecard))\n",
    "print(college_scorecard.content) "
   ]
  },
  {
   "cell_type": "code",
   "execution_count": null,
   "metadata": {
    "collapsed": true
   },
   "outputs": [],
   "source": []
  }
 ],
 "metadata": {
  "kernelspec": {
   "display_name": "Python 2",
   "language": "python",
   "name": "python2"
  },
  "language_info": {
   "codemirror_mode": {
    "name": "ipython",
    "version": 2
   },
   "file_extension": ".py",
   "mimetype": "text/x-python",
   "name": "python",
   "nbconvert_exporter": "python",
   "pygments_lexer": "ipython2",
   "version": "2.7.13"
  }
 },
 "nbformat": 4,
 "nbformat_minor": 2
}
