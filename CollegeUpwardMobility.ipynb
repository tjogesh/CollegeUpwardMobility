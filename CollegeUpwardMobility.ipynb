{
 "cells": [
  {
   "cell_type": "code",
   "execution_count": null,
   "metadata": {
    "collapsed": true
   },
   "outputs": [],
   "source": [
    "## sample code to access and store data in mysql db\n",
    "login_info = {\n",
    "    \"host\":\"host_adress\",\n",
    "    \"user\":\"user_name\",\n",
    "    \"password\":\"very_secret_password\", \n",
    "    \"database\":\"database_name\",\n",
    "    \"port\": 3306\n",
    "    }\n",
    "\n",
    "from database import login_info\n",
    "import mysql.connector\n",
    "\n",
    "conn = mysql.connector.Connect(**login_info)\n",
    "curs = conn.cursor()\n",
    "\n",
    "# STORE\n",
    "curs.execute(\"\"\"INSERT INTO table_name(row1,row2) VALUES(\"foo\",\"bar\")\"\"\")\n",
    "conn.commit()\n",
    "\n",
    "# RETRIVE\n",
    "curs.execute(\"\"\"SELECT * FROM table_name\"\"\")\n",
    "results = curs.fetchall()\n",
    "for result in results:\n",
    "    print(result)"
   ]
  },
  {
   "cell_type": "code",
   "execution_count": 75,
   "metadata": {
    "collapsed": false
   },
   "outputs": [
    {
     "name": "stdout",
     "output_type": "stream",
     "text": [
      "2015.school.degree_urbanization,2015.school.locale,2015.school.carnegie_basic,2015.admissions.sat_scores.average.overall,2015.student.demographics.race_ethnicity.white,2015.student.demographics.race_ethnicity.black,2015.student.demographics.race_ethnicity.hispanic\n"
     ]
    }
   ],
   "source": [
    "import pandas as pd\n",
    "Allvariables = pd.read_csv('coreVariables.csv')\n",
    "# convert df to a list of variables \n",
    "\n",
    "#year\n",
    "#category\n",
    "#developer-friendly name\n",
    "#format year.category.developer-friendly name https://collegescorecard.ed.gov/data/documentation/\n",
    "\n",
    "#adding a . to category\n",
    "Allvariables.iloc[:,1] = Allvariables.iloc[:,1].astype(str) +'.' \n",
    "#concatenating category and developer-friendly name and converting it to a list\n",
    "var_name = list(Allvariables.iloc[2:,1:3].astype(str).sum(axis=1))\n",
    "#year\n",
    "year=2015\n",
    "#building the query text in required format. -- output looks good to me. only getting 3 variables for now\n",
    "QueryAPI= str(year)+'.'+(','+str(year)+'.').join(var_name[0:7])\n",
    "print(QueryAPI)\n"
   ]
  },
  {
   "cell_type": "code",
   "execution_count": 76,
   "metadata": {
    "collapsed": false
   },
   "outputs": [
    {
     "name": "stdout",
     "output_type": "stream",
     "text": [
      "https://api.data.gov/ed/collegescorecard/v1/schools.csv?fields=school.name,id,2015.school.degree_urbanization,2015.school.locale,2015.school.carnegie_basic,2015.admissions.sat_scores.average.overall,2015.student.demographics.race_ethnicity.white,2015.student.demographics.race_ethnicity.black,2015.student.demographics.race_ethnicity.hispanic&_per_page=100&page=1&api_key=7EfsgcFY3JfMxQJ7tAW0Cjqamb77iOHPbpdBXTP6\n",
      "https://api.data.gov/ed/collegescorecard/v1/schools.csv?fields=school.name,id,2013.aid.median_debt.completers.overall,2013.repayment.1_yr_repayment.completers,2013.earnings.10_yrs_after_entry.working_not_enrolled.mean_earnings&_per_page=100&page=1&api_key=7EfsgcFY3JfMxQJ7tAW0Cjqamb77iOHPbpdBXTP6\n"
     ]
    }
   ],
   "source": [
    "#this api call does not work for full query or any modification of the sample -- the formatting looks okay to me. \n",
    "api ='https://api.data.gov/ed/collegescorecard/v1/schools.csv?fields=school.name,id,'+ QueryAPI+ '&_per_page=100&page=1&api_key=7EfsgcFY3JfMxQJ7tAW0Cjqamb77iOHPbpdBXTP6'\n",
    "api2='https://api.data.gov/ed/collegescorecard/v1/schools.csv?fields=school.name,id,2013.aid.median_debt.completers.overall,2013.repayment.1_yr_repayment.completers,2013.earnings.10_yrs_after_entry.working_not_enrolled.mean_earnings&_per_page=100&page=%s&api_key=7EfsgcFY3JfMxQJ7tAW0Cjqamb77iOHPbpdBXTP6' % str(1)\n",
    "\n",
    "print(api) #this link doesn't work only returns two fields \n",
    "print(api2) #this one does -- not sure why\n",
    "#df = pd.read_csv(api)\n",
    "#print(df.head())\n"
   ]
  },
  {
   "cell_type": "code",
   "execution_count": 71,
   "metadata": {
    "collapsed": false
   },
   "outputs": [
    {
     "name": "stdout",
     "output_type": "stream",
     "text": [
      "Downloading Page 0\n",
      "Downloading Page 1\n",
      "Downloading Page 2\n",
      "Downloading Page 3\n",
      "Downloading Page 4\n",
      "Downloading Page 5\n",
      "Downloading Page 6\n",
      "Downloading Page 7\n",
      "Downloading Page 8\n",
      "Downloading Page 9\n",
      "Downloading Page 10\n",
      "Downloading Page 11\n",
      "Downloading Page 12\n",
      "Downloading Page 13\n",
      "Downloading Page 14\n",
      "Downloading Page 15\n",
      "Downloading Page 16\n",
      "Downloading Page 17\n",
      "Downloading Page 18\n",
      "Downloading Page 19\n",
      "Downloading Page 20\n",
      "Downloading Page 21\n",
      "Downloading Page 22\n",
      "Downloading Page 23\n",
      "Downloading Page 24\n",
      "Downloading Page 25\n",
      "Downloading Page 26\n",
      "Downloading Page 27\n",
      "Downloading Page 28\n",
      "Downloading Page 29\n",
      "Downloading Page 30\n",
      "Downloading Page 31\n",
      "Downloading Page 32\n",
      "Downloading Page 33\n",
      "Downloading Page 34\n",
      "Downloading Page 35\n",
      "Downloading Page 36\n",
      "Downloading Page 37\n",
      "Downloading Page 38\n",
      "Downloading Page 39\n",
      "Downloading Page 40\n",
      "Downloading Page 41\n",
      "Downloading Page 42\n",
      "Downloading Page 43\n",
      "Downloading Page 44\n",
      "Downloading Page 45\n",
      "Downloading Page 46\n",
      "Downloading Page 47\n",
      "Downloading Page 48\n",
      "Downloading Page 49\n",
      "Downloading Page 50\n",
      "Downloading Page 51\n",
      "Downloading Page 52\n",
      "Downloading Page 53\n",
      "Downloading Page 54\n",
      "Downloading Page 55\n",
      "Downloading Page 56\n",
      "Downloading Page 57\n",
      "Downloading Page 58\n",
      "Downloading Page 59\n",
      "Downloading Page 60\n",
      "Downloading Page 61\n",
      "Downloading Page 62\n",
      "Downloading Page 63\n",
      "Downloading Page 64\n",
      "Downloading Page 65\n",
      "Downloading Page 66\n",
      "Downloading Page 67\n",
      "Downloading Page 68\n",
      "Downloading Page 69\n",
      "Downloading Page 70\n",
      "Downloading Page 71\n",
      "Downloading Page 72\n",
      "Downloading Page 73\n",
      "Downloading Page 74\n",
      "          id                                        school.name  \\\n",
      "0     412003                 National Institute of Massotherapy   \n",
      "1     443030  NorthShore University HealthSystem School of N...   \n",
      "2     443058               Family of Faith Christian University   \n",
      "3     443076                          Hood Theological Seminary   \n",
      "4     443225                                   PC AGE-Metropark   \n",
      "5     443252              South Florida Institute of Technology   \n",
      "6     443261                  Southeastern Institute-Charleston   \n",
      "7     443270                  Southeastern College-Jacksonville   \n",
      "8     443331                  West Coast University-Los Angeles   \n",
      "9     443340                       Williamson Christian College   \n",
      "10    443359                          Music City Barber College   \n",
      "11    443483      Connecticut Center for Massage Therapy-Groton   \n",
      "12    443641              Paul Mitchell the School-Rhode Island   \n",
      "13    443678                    Empire Beauty School-Framingham   \n",
      "14    443784                    Strayer University-Pennsylvania   \n",
      "15    443979                               PCI Academy-Plymouth   \n",
      "16    444042             National University College-Rio Grande   \n",
      "17    443562                          Dewey University-Hato Rey   \n",
      "18    443571                    InterCoast Colleges-West Covina   \n",
      "19    442602                     Carrington College-Albuquerque   \n",
      "20    442620                           Everest Institute-Tigard   \n",
      "21    442790                             Everest College-Dallas   \n",
      "22    442815                    The Salter School-Malden Campus   \n",
      "23    195702                 Saint Elizabeth College of Nursing   \n",
      "24    422190                  Champion Institute of Cosmetology   \n",
      "25    117955                                    Lu Ross Academy   \n",
      "26    451671       University of South Florida-Sarasota-Manatee   \n",
      "27    104665          Frank Lloyd Wright School of Architecture   \n",
      "28    434937             Yeshiva College of the Nations Capital   \n",
      "29    217749                               Bob Jones University   \n",
      "..       ...                                                ...   \n",
      "70    455895    Tricoci University of Beauty Culture-Bridgeview   \n",
      "71    455910                                 Center for Massage   \n",
      "72    455974                        South Texas Training Center   \n",
      "73    456001                         Advanced Welding Institute   \n",
      "74    456029                   Paul Mitchell the School-Memphis   \n",
      "75    456038                 Pima Medical Institute-East Valley   \n",
      "76    456074                  Paul Mitchell the School-Columbus   \n",
      "77    456205                       Miller-Motte College-Raleigh   \n",
      "78    456214                                   Lamson Institute   \n",
      "79    456287                 College of Hair Design-East Campus   \n",
      "80    456339                       Heritage College-Little Rock   \n",
      "81    456357                   MedTech College-Greenwood Campus   \n",
      "82    456366                    MedTech College-Ft Wayne Campus   \n",
      "83    456375                   MedTech College-Lexington Campus   \n",
      "84    456409                ITT Technical Institute-Springfield   \n",
      "85    456418                 ITT Technical Institute-Huntington   \n",
      "86    456454                      Fortis College-Salt Lake City   \n",
      "87    456515              Ross Medical Education Center-Portage   \n",
      "88    456746          Regency Beauty Institute-Detroit Lakeside   \n",
      "89    456764                 Regency Beauty Institute-Arlington   \n",
      "90    456773                    Regency Beauty Institute-Durham   \n",
      "91    456791                    Brown Mackie College-Greenville   \n",
      "92    456807                       Globe University-Sioux Falls   \n",
      "93    456861                Beauty Schools of America-Homestead   \n",
      "94    457031                               Capri Beauty College   \n",
      "95    457077                        Milan Institute-Bakersfield   \n",
      "96    457086                                  Homestead Schools   \n",
      "97  10722001       Career Academy of Hair Design-Siloam Springs   \n",
      "98  10722002               Career Academy of Hair Design-Rogers   \n",
      "99  11835605                 Marinello School of Beauty-Ontario   \n",
      "\n",
      "    2013.aid.median_debt.completers.overall  \\\n",
      "0                                   12694.0   \n",
      "1                                       NaN   \n",
      "2                                       NaN   \n",
      "3                                       NaN   \n",
      "4                                   13000.0   \n",
      "5                                    1441.0   \n",
      "6                                    9500.0   \n",
      "7                                   14250.0   \n",
      "8                                   33000.0   \n",
      "9                                       NaN   \n",
      "10                                  14564.0   \n",
      "11                                   7600.0   \n",
      "12                                  10556.0   \n",
      "13                                   9897.0   \n",
      "14                                  34120.0   \n",
      "15                                  11670.5   \n",
      "16                                   7000.0   \n",
      "17                                      NaN   \n",
      "18                                  11945.0   \n",
      "19                                   9500.0   \n",
      "20                                   9500.0   \n",
      "21                                   9500.0   \n",
      "22                                   8222.0   \n",
      "23                                  17500.0   \n",
      "24                                   4864.0   \n",
      "25                                   8310.5   \n",
      "26                                  18750.0   \n",
      "27                                      NaN   \n",
      "28                                      NaN   \n",
      "29                                  18000.0   \n",
      "..                                      ...   \n",
      "70                                  11435.0   \n",
      "71                                      NaN   \n",
      "72                                   3494.5   \n",
      "73                                      NaN   \n",
      "74                                   9833.0   \n",
      "75                                   8708.0   \n",
      "76                                  13514.0   \n",
      "77                                  19174.0   \n",
      "78                                   8023.0   \n",
      "79                                  14499.0   \n",
      "80                                  15333.0   \n",
      "81                                  20000.0   \n",
      "82                                  20000.0   \n",
      "83                                  20000.0   \n",
      "84                                  24975.5   \n",
      "85                                  24975.5   \n",
      "86                                  17846.0   \n",
      "87                                   9500.0   \n",
      "88                                  14144.0   \n",
      "89                                  14144.0   \n",
      "90                                  14144.0   \n",
      "91                                  20921.0   \n",
      "92                                  25500.0   \n",
      "93                                   9500.0   \n",
      "94                                   9844.0   \n",
      "95                                   9500.0   \n",
      "96                                  17072.0   \n",
      "97                                   9677.5   \n",
      "98                                   9677.5   \n",
      "99                                  10295.0   \n",
      "\n",
      "    2013.repayment.1_yr_repayment.completers  \n",
      "0                                       43.0  \n",
      "1                                        NaN  \n",
      "2                                        NaN  \n",
      "3                                        NaN  \n",
      "4                                      176.0  \n",
      "5                                      201.0  \n",
      "6                                      327.0  \n",
      "7                                      172.0  \n",
      "8                                     1289.0  \n",
      "9                                       19.0  \n",
      "10                                      89.0  \n",
      "11                                     416.0  \n",
      "12                                     400.0  \n",
      "13                                     197.0  \n",
      "14                                    3353.0  \n",
      "15                                     191.0  \n",
      "16                                     481.0  \n",
      "17                                       NaN  \n",
      "18                                    1940.0  \n",
      "19                                    3966.0  \n",
      "20                                     871.0  \n",
      "21                                    2183.0  \n",
      "22                                    2360.0  \n",
      "23                                     148.0  \n",
      "24                                      25.0  \n",
      "25                                     177.0  \n",
      "26                                    7709.0  \n",
      "27                                       NaN  \n",
      "28                                       NaN  \n",
      "29                                     444.0  \n",
      "..                                       ...  \n",
      "70                                     152.0  \n",
      "71                                      18.0  \n",
      "72                                     122.0  \n",
      "73                                       NaN  \n",
      "74                                     127.0  \n",
      "75                                    7819.0  \n",
      "76                                     139.0  \n",
      "77                                    2009.0  \n",
      "78                                    1135.0  \n",
      "79                                     220.0  \n",
      "80                                    1221.0  \n",
      "81                                    1814.0  \n",
      "82                                    1814.0  \n",
      "83                                    1814.0  \n",
      "84                                   27039.0  \n",
      "85                                   27039.0  \n",
      "86                                     904.0  \n",
      "87                                    1940.0  \n",
      "88                                    6732.0  \n",
      "89                                    6732.0  \n",
      "90                                    6732.0  \n",
      "91                                   10590.0  \n",
      "92                                    1599.0  \n",
      "93                                    2438.0  \n",
      "94                                     201.0  \n",
      "95                                    1656.0  \n",
      "96                                     262.0  \n",
      "97                                     140.0  \n",
      "98                                     140.0  \n",
      "99                                    2682.0  \n",
      "\n",
      "[100 rows x 4 columns]\n"
     ]
    }
   ],
   "source": [
    "# Loop to get all the data from all pages -- this works but modified queries do not \n",
    "\n",
    "n = int(7593/100)+1 #number of total entries / number of enteries per page: 100 is the max. \n",
    "allpages =[]\n",
    "\n",
    "#get all pages\n",
    "for i in xrange(0, n):\n",
    "    try:\n",
    "        print \"Downloading Page %d\" % (i) \n",
    "        api ='https://api.data.gov/ed/collegescorecard/v1/schools.csv?fields=school.name,id,2013.aid.median_debt.completers.overall,2013.repayment.1_yr_repayment.completers,2013.earnings.10_yrs_after_entry.working_not_enrolled.mean_earnings&_per_page=100&page=%s&api_key=7EfsgcFY3JfMxQJ7tAW0Cjqamb77iOHPbpdBXTP6' % str(i)\n",
    "        df = pd.read_csv(api)\n",
    "        allpages.append(df)\n",
    "    except:\n",
    "        pass\n",
    "\n",
    "#api = \"https://api.data.gov/ed/collegescorecard/v1/schools.csv?school.degrees_awarded.predominant=2,3&_fields=id,school.name,school.city,2015.student.size&api_key=7EfsgcFY3JfMxQJ7tAW0Cjqamb77iOHPbpdBXTP6\"\n",
    "#not sure how to modify API to return more than 20 hits\n",
    "\n"
   ]
  },
  {
   "cell_type": "code",
   "execution_count": 74,
   "metadata": {
    "collapsed": false
   },
   "outputs": [
    {
     "name": "stdout",
     "output_type": "stream",
     "text": [
      "(7500, 5)\n"
     ]
    }
   ],
   "source": [
    "alldf = pd.concat(allpages)\n",
    "print(alldf.shape)\n"
   ]
  },
  {
   "cell_type": "code",
   "execution_count": null,
   "metadata": {
    "collapsed": false
   },
   "outputs": [],
   "source": [
    "import glob\n",
    "csv_files = glob.glob(\"./AllYears/*.csv\") \n",
    "list_data = []\n",
    "for filename in csv_files:\n",
    "    data = pd.read_csv(filename,low_memory=False,na_values=-2)\n",
    "    data['filename'] = filename\n",
    "    list_data.append(data)\n",
    "allyears_df = pd.concat(list_data)"
   ]
  },
  {
   "cell_type": "code",
   "execution_count": null,
   "metadata": {
    "collapsed": false
   },
   "outputs": [],
   "source": [
    "print(allyears_df.head())"
   ]
  },
  {
   "cell_type": "code",
   "execution_count": null,
   "metadata": {
    "collapsed": true
   },
   "outputs": [],
   "source": [
    "files = list(allyears_df['filename'])\n",
    "year_range = []\n",
    "r = re.compile(\"https?:\\/\\/*\")\n",
    "\n",
    "for i in xrange( 0, len(textlist)):\n",
    "\turlList.append([x for x in textlist[i].split(\"\\n\") if r.match(x)])\n",
    "    \n",
    "import re\n",
    ">>> re.findall(r'\\d+', 'hello 42 I\\'m a 32 string 30')\n",
    "['42', '32', '30']"
   ]
  },
  {
   "cell_type": "code",
   "execution_count": null,
   "metadata": {
    "collapsed": false
   },
   "outputs": [],
   "source": [
    "import pandas as pd\n",
    "# read in the 2015 data for now (I may later concatenate all years into a single dataframe)\n",
    "filepath ='./CollegeScorecard_Raw_Data/MERGED2014_15_PP.csv'\n",
    "AllData_2015 = pd.read_csv(filepath, low_memory=False,na_values=-2)\n",
    "#reading in a text with only variables of interest \n",
    "Allvariables = pd.read_csv('coreVariables.csv')\n",
    "# convert df to a list of variables \n",
    "variables = list(Allvariables.iloc[:,5])\n",
    "#removing all extreneous columns and only keeping 'variables'\n",
    "Relevant_data_2015 = AllData_2015.loc[:,variables]\n",
    "#changing the column names to names that are a little more intuitive to read \n",
    "Relevant_data_2015.columns = list(Allvariables['my_classification'])\n"
   ]
  },
  {
   "cell_type": "code",
   "execution_count": null,
   "metadata": {
    "collapsed": false
   },
   "outputs": [],
   "source": [
    "print(Relevant_data_2015.shape) #number of records\n",
    "#make sure all numeric columns are numeric\n",
    "print(Relevant_data_2015.info())"
   ]
  },
  {
   "cell_type": "code",
   "execution_count": null,
   "metadata": {
    "collapsed": false
   },
   "outputs": [],
   "source": [
    "#the following columns should be ints but they are not so look at values and replace strings with NANs\n",
    "#avg_family_income_dependent\n",
    "#avg_family_income_independent\n",
    "#loan_principal\n",
    "#print(Relevant_data_2015['loan_principal'].value_counts(dropna=False))\n",
    "\n",
    "#print(Relevant_data_2015['avg_family_income_independent'].value_counts(dropna=False))\n",
    "#print(Relevant_data_2015['avg_family_income_dependent'].value_counts(dropna=False))\n",
    "# In all three need to replace PrivacySuppressed with NANS\n",
    "\n",
    "#not sure how to convert to ints after\n",
    "\n",
    "Relevant_data_2015.loan_principal.replace('PrivacySuppressed',None,inplace=True)\n",
    "Relevant_data_2015.avg_family_income_independent.replace('PrivacySuppressed',None,inplace=True)\n",
    "Relevant_data_2015.avg_family_income_dependent.replace('PrivacySuppressed',None,inplace=True)\n",
    "\n",
    "Relevant_data_2015['loan_principal'] = Relevant_data_2015['loan_principal'].astype(float)\n",
    "Relevant_data_2015['avg_family_income_independent'] = Relevant_data_2015['avg_family_income_independent'].astype(float)\n",
    "Relevant_data_2015['avg_family_income_dependent'] = Relevant_data_2015['avg_family_income_dependent'].astype(float)\n",
    "#Relevant_data_2015['loan_principal'].astype(int)\n",
    "\n",
    "#Alternative option\n",
    "#Relevant_data_2015['loan_principal'] = pd.to_numeric(Relevant_data_2015['loan_principal'],errors='coerce') \n",
    "\n"
   ]
  },
  {
   "cell_type": "code",
   "execution_count": null,
   "metadata": {
    "collapsed": false
   },
   "outputs": [],
   "source": [
    "## Carnegie school type classification\n",
    "carnegie = pd.read_csv('Carnegie_notations.csv', header=None)\n",
    "carnegie_dict =dict(carnegie.values)\n",
    "Relevant_data_2015[\"carnegie_basic\"].replace(carnegie_dict, inplace=True)\n",
    "print(Relevant_data_2015.carnegie_basic.value_counts(dropna=False))\n",
    "# almost a thrid of the colleges are not classified "
   ]
  },
  {
   "cell_type": "code",
   "execution_count": null,
   "metadata": {
    "collapsed": false
   },
   "outputs": [],
   "source": [
    "## Carnegie undergrad classification\n",
    "carnegie_ug = pd.read_csv('Carnegie_undergrad.csv', header=None)\n",
    "carnegie_ug_dict =dict(carnegie_ug.values)\n",
    "Relevant_data_2015[\"carnegie_undergrad\"].replace(carnegie_ug_dict, inplace=True)\n",
    "print(Relevant_data_2015.carnegie_undergrad.value_counts(dropna=False))\n",
    "# almost a thrid of the colleges are not classified \n",
    "#remove all the graduate professional only colleges?"
   ]
  },
  {
   "cell_type": "code",
   "execution_count": null,
   "metadata": {
    "collapsed": false
   },
   "outputs": [],
   "source": [
    "## Carnegie size classification\n",
    "carnegie_sz = pd.read_csv('Carnegie_size.csv', header=None)\n",
    "carnegie_sz_dict =dict(carnegie_sz.values)\n",
    "Relevant_data_2015[\"carnegie_size_setting\"].replace(carnegie_sz_dict, inplace=True)\n",
    "print(Relevant_data_2015.carnegie_size_setting.value_counts(dropna=False))\n",
    "# almost a thrid of the colleges are not classified "
   ]
  },
  {
   "cell_type": "code",
   "execution_count": null,
   "metadata": {
    "collapsed": false
   },
   "outputs": [],
   "source": [
    "## Urbanization classification\n",
    "print(Relevant_data_2015.degree_urbanization.value_counts(dropna=False))\n",
    "# almost a thrid of the colleges are not classified \n",
    "# this columnn is non-existance do remove from df \n",
    "Relevant_data_2015.drop('degree_urbanization', axis=1, inplace=True)\n",
    "\n"
   ]
  },
  {
   "cell_type": "code",
   "execution_count": null,
   "metadata": {
    "collapsed": false
   },
   "outputs": [],
   "source": [
    "## Locale classification\n",
    "locale = pd.read_csv('urbanization.csv', header=None)\n",
    "locale_dict =dict(locale.values)\n",
    "Relevant_data_2015[\"locale\"].replace(locale_dict, inplace=True)\n",
    "#replace -3 with -2\n",
    "Relevant_data_2015.locale.replace(-3,None,inplace=True)\n",
    "\n",
    "print(Relevant_data_2015.locale.value_counts(dropna=False))\n",
    "# almost a thrid of the colleges are not classified \n",
    "# this columnn is non-existance do remove from df \n"
   ]
  },
  {
   "cell_type": "code",
   "execution_count": null,
   "metadata": {
    "collapsed": false
   },
   "outputs": [],
   "source": [
    "import matplotlib.pyplot as plt\n",
    "%matplotlib inline  \n",
    "# Plot the histogram\n",
    "Relevant_data_2015.hist(figsize=(18, 18))\n",
    "# Display the histogram\n",
    "plt.show()"
   ]
  },
  {
   "cell_type": "code",
   "execution_count": null,
   "metadata": {
    "collapsed": false
   },
   "outputs": [],
   "source": [
    "import matplotlib.pyplot as plt\n",
    "%matplotlib inline  \n",
    "# Plot the histogram\n",
    "Relevant_data_2015.boxplot(column='admission_rate.overall', by='carnegie_size_setting', rot=90, figsize=(18, 6))\n",
    "Relevant_data_2015.boxplot(column='tuition.in_state', by='carnegie_size_setting', rot=90, figsize=(18, 6))\n",
    "Relevant_data_2015.boxplot(column='retention_rate.four_year.full_time', by='carnegie_size_setting', rot=90, figsize=(18, 6))\n",
    "Relevant_data_2015.boxplot(column='loan_principal', by='carnegie_size_setting', rot=90, figsize=(18, 6))\n",
    "Relevant_data_2015.boxplot(column='prop_white', by='carnegie_size_setting', rot=90, figsize=(18, 6))\n",
    "\n",
    "\n",
    "#\n",
    "# Display the histogram\n",
    "plt.show()\n"
   ]
  },
  {
   "cell_type": "code",
   "execution_count": null,
   "metadata": {
    "collapsed": false
   },
   "outputs": [],
   "source": [
    "%matplotlib inline  \n",
    "# Plot the histogram\n",
    "Relevant_data_2015.boxplot(column='admission_rate.overall', by='locale', rot=90, figsize=(18, 6))\n",
    "Relevant_data_2015.boxplot(column='tuition.in_state', by='locale', rot=90, figsize=(18, 6))\n",
    "Relevant_data_2015.boxplot(column='retention_rate.four_year.full_time', by='locale', rot=90, figsize=(18, 6))\n",
    "Relevant_data_2015.boxplot(column='loan_principal', by='locale', rot=90, figsize=(18, 6))\n",
    "Relevant_data_2015.boxplot(column='prop_white', by='locale', rot=90, figsize=(18, 6))\n",
    "\n",
    "\n",
    "#\n",
    "# Display the histogram\n",
    "plt.show()\n"
   ]
  },
  {
   "cell_type": "code",
   "execution_count": null,
   "metadata": {
    "collapsed": false
   },
   "outputs": [],
   "source": [
    "\n",
    "%matplotlib inline  \n",
    "Relevant_data_2015.plot(kind='scatter', x='admission_rate.overall', y='tuition.in_state', rot=70)\n",
    "Relevant_data_2015.plot(kind='scatter', x='federal_loan_rate', y='tuition.in_state', rot=70)\n",
    "Relevant_data_2015.plot(kind='scatter', x='loan_principal', y='tuition.in_state', rot=70)\n",
    "Relevant_data_2015.plot(kind='scatter', x='avg_family_income_dependent', y='tuition.in_state', rot=70)\n",
    "Relevant_data_2015.plot(kind='scatter', x='avg_family_income_dependent', y='sat_scores', rot=70)\n",
    "Relevant_data_2015.plot(kind='scatter', x='sat_scores', y='loan_principal', rot=70)\n",
    "\n",
    "plt.show()\n"
   ]
  },
  {
   "cell_type": "code",
   "execution_count": null,
   "metadata": {
    "collapsed": true
   },
   "outputs": [],
   "source": []
  }
 ],
 "metadata": {
  "kernelspec": {
   "display_name": "Python 2",
   "language": "python",
   "name": "python2"
  },
  "language_info": {
   "codemirror_mode": {
    "name": "ipython",
    "version": 2
   },
   "file_extension": ".py",
   "mimetype": "text/x-python",
   "name": "python",
   "nbconvert_exporter": "python",
   "pygments_lexer": "ipython2",
   "version": "2.7.13"
  }
 },
 "nbformat": 4,
 "nbformat_minor": 2
}
